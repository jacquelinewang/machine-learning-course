{
 "cells": [
  {
   "cell_type": "markdown",
   "metadata": {},
   "source": [
    "### 1 The Dataset: Dow Jones Industrial Average (DJIA)"
   ]
  },
  {
   "cell_type": "code",
   "execution_count": 201,
   "metadata": {},
   "outputs": [],
   "source": [
    "#import packages\n",
    "import pandas as pd\n",
    "import numpy as np\n",
    "\n",
    "import matplotlib.pyplot as plt\n",
    "%matplotlib inline\n",
    "\n",
    "from sklearn.preprocessing import MinMaxScaler\n",
    "scaler = MinMaxScaler(feature_range=(0, 1))"
   ]
  },
  {
   "cell_type": "code",
   "execution_count": 202,
   "metadata": {},
   "outputs": [
    {
     "data": {
      "text/html": [
       "<div>\n",
       "<style scoped>\n",
       "    .dataframe tbody tr th:only-of-type {\n",
       "        vertical-align: middle;\n",
       "    }\n",
       "\n",
       "    .dataframe tbody tr th {\n",
       "        vertical-align: top;\n",
       "    }\n",
       "\n",
       "    .dataframe thead th {\n",
       "        text-align: right;\n",
       "    }\n",
       "</style>\n",
       "<table border=\"1\" class=\"dataframe\">\n",
       "  <thead>\n",
       "    <tr style=\"text-align: right;\">\n",
       "      <th></th>\n",
       "      <th>Date</th>\n",
       "      <th>Open</th>\n",
       "      <th>High</th>\n",
       "      <th>Low</th>\n",
       "      <th>Close</th>\n",
       "      <th>Adj Close</th>\n",
       "      <th>Volume</th>\n",
       "    </tr>\n",
       "  </thead>\n",
       "  <tbody>\n",
       "    <tr>\n",
       "      <th>0</th>\n",
       "      <td>2010-01-19</td>\n",
       "      <td>10608.370117</td>\n",
       "      <td>10729.889648</td>\n",
       "      <td>10591.969727</td>\n",
       "      <td>10725.429688</td>\n",
       "      <td>10725.429688</td>\n",
       "      <td>192150000</td>\n",
       "    </tr>\n",
       "    <tr>\n",
       "      <th>1</th>\n",
       "      <td>2010-01-20</td>\n",
       "      <td>10719.690430</td>\n",
       "      <td>10719.919922</td>\n",
       "      <td>10517.299805</td>\n",
       "      <td>10603.150391</td>\n",
       "      <td>10603.150391</td>\n",
       "      <td>203270000</td>\n",
       "    </tr>\n",
       "    <tr>\n",
       "      <th>2</th>\n",
       "      <td>2010-01-21</td>\n",
       "      <td>10603.910156</td>\n",
       "      <td>10614.940430</td>\n",
       "      <td>10374.690430</td>\n",
       "      <td>10389.879883</td>\n",
       "      <td>10389.879883</td>\n",
       "      <td>304290000</td>\n",
       "    </tr>\n",
       "    <tr>\n",
       "      <th>3</th>\n",
       "      <td>2010-01-22</td>\n",
       "      <td>10389.580078</td>\n",
       "      <td>10389.580078</td>\n",
       "      <td>10157.639648</td>\n",
       "      <td>10172.980469</td>\n",
       "      <td>10172.980469</td>\n",
       "      <td>323620000</td>\n",
       "    </tr>\n",
       "    <tr>\n",
       "      <th>4</th>\n",
       "      <td>2010-01-25</td>\n",
       "      <td>10175.099609</td>\n",
       "      <td>10256.870117</td>\n",
       "      <td>10171.769531</td>\n",
       "      <td>10196.860352</td>\n",
       "      <td>10196.860352</td>\n",
       "      <td>215330000</td>\n",
       "    </tr>\n",
       "  </tbody>\n",
       "</table>\n",
       "</div>"
      ],
      "text/plain": [
       "         Date          Open          High           Low         Close  \\\n",
       "0  2010-01-19  10608.370117  10729.889648  10591.969727  10725.429688   \n",
       "1  2010-01-20  10719.690430  10719.919922  10517.299805  10603.150391   \n",
       "2  2010-01-21  10603.910156  10614.940430  10374.690430  10389.879883   \n",
       "3  2010-01-22  10389.580078  10389.580078  10157.639648  10172.980469   \n",
       "4  2010-01-25  10175.099609  10256.870117  10171.769531  10196.860352   \n",
       "\n",
       "      Adj Close     Volume  \n",
       "0  10725.429688  192150000  \n",
       "1  10603.150391  203270000  \n",
       "2  10389.879883  304290000  \n",
       "3  10172.980469  323620000  \n",
       "4  10196.860352  215330000  "
      ]
     },
     "execution_count": 202,
     "metadata": {},
     "output_type": "execute_result"
    }
   ],
   "source": [
    "#read the file\n",
    "df = pd.read_csv('DJI.csv')\n",
    "\n",
    "#print the head\n",
    "df.head()"
   ]
  },
  {
   "cell_type": "markdown",
   "metadata": {},
   "source": [
    "### 2 About DJIA"
   ]
  },
  {
   "cell_type": "markdown",
   "metadata": {},
   "source": [
    "We check if there's any null value in the dataset:"
   ]
  },
  {
   "cell_type": "code",
   "execution_count": 203,
   "metadata": {},
   "outputs": [
    {
     "data": {
      "text/plain": [
       "Date         False\n",
       "Open         False\n",
       "High         False\n",
       "Low          False\n",
       "Close        False\n",
       "Adj Close    False\n",
       "Volume       False\n",
       "dtype: bool"
      ]
     },
     "execution_count": 203,
     "metadata": {},
     "output_type": "execute_result"
    }
   ],
   "source": [
    "df.isnull().any()"
   ]
  },
  {
   "cell_type": "markdown",
   "metadata": {},
   "source": [
    "Luckly, we have a pretty clean dataset: there isn't any missing value in any column. It is not surprising since it comes from Yahoo Finance, the largest business news web site in the United States by monthly traffic.[[3]](https://en.wikipedia.org/wiki/Yahoo!_Finance)"
   ]
  },
  {
   "cell_type": "markdown",
   "metadata": {},
   "source": [
    "Check the data type for each column:"
   ]
  },
  {
   "cell_type": "code",
   "execution_count": 204,
   "metadata": {},
   "outputs": [
    {
     "data": {
      "text/plain": [
       "Date          object\n",
       "Open         float64\n",
       "High         float64\n",
       "Low          float64\n",
       "Close        float64\n",
       "Adj Close    float64\n",
       "Volume         int64\n",
       "dtype: object"
      ]
     },
     "execution_count": 204,
     "metadata": {},
     "output_type": "execute_result"
    }
   ],
   "source": [
    "df.dtypes"
   ]
  },
  {
   "cell_type": "markdown",
   "metadata": {},
   "source": [
    "The Date datatype need to be converted into datetime:"
   ]
  },
  {
   "cell_type": "code",
   "execution_count": 205,
   "metadata": {},
   "outputs": [],
   "source": [
    "df.Date = pd.to_datetime(df.Date)"
   ]
  },
  {
   "cell_type": "markdown",
   "metadata": {},
   "source": [
    "We can also look at some statistical metrics for each column to see if there is any erroneous values or outliers:"
   ]
  },
  {
   "cell_type": "code",
   "execution_count": 206,
   "metadata": {},
   "outputs": [
    {
     "data": {
      "text/html": [
       "<div>\n",
       "<style scoped>\n",
       "    .dataframe tbody tr th:only-of-type {\n",
       "        vertical-align: middle;\n",
       "    }\n",
       "\n",
       "    .dataframe tbody tr th {\n",
       "        vertical-align: top;\n",
       "    }\n",
       "\n",
       "    .dataframe thead th {\n",
       "        text-align: right;\n",
       "    }\n",
       "</style>\n",
       "<table border=\"1\" class=\"dataframe\">\n",
       "  <thead>\n",
       "    <tr style=\"text-align: right;\">\n",
       "      <th></th>\n",
       "      <th>Open</th>\n",
       "      <th>High</th>\n",
       "      <th>Low</th>\n",
       "      <th>Close</th>\n",
       "      <th>Adj Close</th>\n",
       "      <th>Volume</th>\n",
       "    </tr>\n",
       "  </thead>\n",
       "  <tbody>\n",
       "    <tr>\n",
       "      <th>count</th>\n",
       "      <td>2266.000000</td>\n",
       "      <td>2266.000000</td>\n",
       "      <td>2266.000000</td>\n",
       "      <td>2266.000000</td>\n",
       "      <td>2266.000000</td>\n",
       "      <td>2.266000e+03</td>\n",
       "    </tr>\n",
       "    <tr>\n",
       "      <th>mean</th>\n",
       "      <td>16690.322459</td>\n",
       "      <td>16772.632722</td>\n",
       "      <td>16604.260821</td>\n",
       "      <td>16694.564840</td>\n",
       "      <td>16694.564840</td>\n",
       "      <td>1.807341e+08</td>\n",
       "    </tr>\n",
       "    <tr>\n",
       "      <th>std</th>\n",
       "      <td>4461.119632</td>\n",
       "      <td>4474.398049</td>\n",
       "      <td>4445.570228</td>\n",
       "      <td>4458.569682</td>\n",
       "      <td>4458.569682</td>\n",
       "      <td>1.109795e+08</td>\n",
       "    </tr>\n",
       "    <tr>\n",
       "      <th>min</th>\n",
       "      <td>9686.480469</td>\n",
       "      <td>9770.870117</td>\n",
       "      <td>9614.320313</td>\n",
       "      <td>9686.480469</td>\n",
       "      <td>9686.480469</td>\n",
       "      <td>8.410000e+06</td>\n",
       "    </tr>\n",
       "    <tr>\n",
       "      <th>25%</th>\n",
       "      <td>12806.312500</td>\n",
       "      <td>12871.462646</td>\n",
       "      <td>12743.432129</td>\n",
       "      <td>12807.397705</td>\n",
       "      <td>12807.397705</td>\n",
       "      <td>9.940250e+07</td>\n",
       "    </tr>\n",
       "    <tr>\n",
       "      <th>50%</th>\n",
       "      <td>16492.035156</td>\n",
       "      <td>16561.145508</td>\n",
       "      <td>16402.804688</td>\n",
       "      <td>16491.995118</td>\n",
       "      <td>16491.995118</td>\n",
       "      <td>1.397400e+08</td>\n",
       "    </tr>\n",
       "    <tr>\n",
       "      <th>75%</th>\n",
       "      <td>18520.933105</td>\n",
       "      <td>18560.669922</td>\n",
       "      <td>18468.224610</td>\n",
       "      <td>18528.501953</td>\n",
       "      <td>18528.501953</td>\n",
       "      <td>2.417175e+08</td>\n",
       "    </tr>\n",
       "    <tr>\n",
       "      <th>max</th>\n",
       "      <td>26833.470703</td>\n",
       "      <td>26951.810547</td>\n",
       "      <td>26789.080078</td>\n",
       "      <td>26828.390625</td>\n",
       "      <td>26828.390625</td>\n",
       "      <td>9.005100e+08</td>\n",
       "    </tr>\n",
       "  </tbody>\n",
       "</table>\n",
       "</div>"
      ],
      "text/plain": [
       "               Open          High           Low         Close     Adj Close  \\\n",
       "count   2266.000000   2266.000000   2266.000000   2266.000000   2266.000000   \n",
       "mean   16690.322459  16772.632722  16604.260821  16694.564840  16694.564840   \n",
       "std     4461.119632   4474.398049   4445.570228   4458.569682   4458.569682   \n",
       "min     9686.480469   9770.870117   9614.320313   9686.480469   9686.480469   \n",
       "25%    12806.312500  12871.462646  12743.432129  12807.397705  12807.397705   \n",
       "50%    16492.035156  16561.145508  16402.804688  16491.995118  16491.995118   \n",
       "75%    18520.933105  18560.669922  18468.224610  18528.501953  18528.501953   \n",
       "max    26833.470703  26951.810547  26789.080078  26828.390625  26828.390625   \n",
       "\n",
       "             Volume  \n",
       "count  2.266000e+03  \n",
       "mean   1.807341e+08  \n",
       "std    1.109795e+08  \n",
       "min    8.410000e+06  \n",
       "25%    9.940250e+07  \n",
       "50%    1.397400e+08  \n",
       "75%    2.417175e+08  \n",
       "max    9.005100e+08  "
      ]
     },
     "execution_count": 206,
     "metadata": {},
     "output_type": "execute_result"
    }
   ],
   "source": [
    "df.describe()"
   ]
  },
  {
   "cell_type": "markdown",
   "metadata": {},
   "source": [
    "Everything seem reasonable. We are good to go."
   ]
  },
  {
   "cell_type": "markdown",
   "metadata": {},
   "source": [
    "### 4 Visualizations\n"
   ]
  },
  {
   "cell_type": "markdown",
   "metadata": {},
   "source": [
    "First, let's plot the relationship between **lowest price & highest price**, as well as the relationship between **close price & open price**:"
   ]
  },
  {
   "cell_type": "code",
   "execution_count": 207,
   "metadata": {},
   "outputs": [
    {
     "data": {
      "text/plain": [
       "<matplotlib.text.Text at 0x132e2e860>"
      ]
     },
     "execution_count": 207,
     "metadata": {},
     "output_type": "execute_result"
    },
    {
     "data": {
      "image/png": "[encoded data removed]",
      "text/plain": [
       "<matplotlib.figure.Figure at 0x132248ac8>"
      ]
     },
     "metadata": {},
     "output_type": "display_data"
    }
   ],
   "source": [
    "fig, ax = plt.subplots(1, 2, figsize=(12,6))\n",
    "ax[0].scatter(df.Low, df.High,alpha=0.5)\n",
    "ax[0].set_title('High~Low')\n",
    "\n",
    "\n",
    "ax[1].scatter(df.Open, df.Close, alpha=0.5)\n",
    "ax[1].set_title('Close~Open')"
   ]
  },
  {
   "cell_type": "markdown",
   "metadata": {},
   "source": [
    "Not surprisingly, there are both positive correlations between high&low, open&close, respectively."
   ]
  },
  {
   "cell_type": "markdown",
   "metadata": {},
   "source": [
    "Then we look at how **close price** changes over **time**:"
   ]
  },
  {
   "cell_type": "code",
   "execution_count": 208,
   "metadata": {},
   "outputs": [
    {
     "data": {
      "text/plain": [
       "<matplotlib.legend.Legend at 0x131c4fa58>"
      ]
     },
     "execution_count": 208,
     "metadata": {},
     "output_type": "execute_result"
    },
    {
     "data": {
      "image/png": "[encoded data removed]",
      "text/plain": [
       "<matplotlib.figure.Figure at 0x130e65c88>"
      ]
     },
     "metadata": {},
     "output_type": "display_data"
    }
   ],
   "source": [
    "#setting index as date\n",
    "df.index = df['Date']\n",
    "\n",
    "#plot\n",
    "plt.figure(figsize=(12,6))\n",
    "plt.plot(df.Close, label='close price')\n",
    "plt.plot(df.Close.rolling(window=90).mean(), label='smoothed close price (90-day window)') \n",
    "\n",
    "plt.xlabel('Date')\n",
    "plt.ylabel('Close Price')\n",
    "plt.title('Close Price History', size=15)\n",
    "plt.legend()"
   ]
  },
  {
   "cell_type": "markdown",
   "metadata": {},
   "source": [
    "We apply a 90-day window to smoothe the curve, which can give us better understanding of the market trend. \n",
    "\n",
    "As can be seen, the DJIA has been increasing from around 10,000 to 25,000 from 2010 till 2019. Still, there are some declines in late 2011, early 2016 and mid 2018."
   ]
  },
  {
   "cell_type": "markdown",
   "metadata": {},
   "source": [
    "### 5 Insights"
   ]
  },
  {
   "cell_type": "markdown",
   "metadata": {},
   "source": [
    "We would like to explore the **reasons** of declines in late 2011, early 2016 and mid 2018. Our assumption here is that they were due to **global issues** that cast **negative effects** over the stock market. \n",
    "\n",
    "By looking up in the internet, we found these news articles that could be related to the drops in DJIA:"
   ]
  },
  {
   "cell_type": "markdown",
   "metadata": {},
   "source": [
    "- In Nov. 2011, we have [Stocks fall hard on Greece fears](https://money.cnn.com/2011/11/01/markets/markets_newyork/index.htm)\n",
    "- In Jan. 2016, there's [Dow closes down nearly 300 points on China fears](https://money.cnn.com/2016/01/04/investing/stocks-markets-dow-china/)\n",
    "- In Mar. 2018, [Dow closes more than 700 points lower as trade fears spark plunge](https://www.marketwatch.com/story/dow-poised-to-drop-by-more-than-100-points-2018-03-22)\n"
   ]
  },
  {
   "cell_type": "markdown",
   "metadata": {},
   "source": [
    "Such interesting finding can lead to the idea of using daily news to predict stock market. Actually, there are many related studies that have been done already. People use **NLP** techniques to extract information from the news as input features to help witht the prediction of stock prices using Deep Learning models line RNN, CNN, etc."
   ]
  },
  {
   "cell_type": "code",
   "execution_count": null,
   "metadata": {},
   "outputs": [],
   "source": []
  }
 ],
 "metadata": {
  "kernelspec": {
   "display_name": "Python 3",
   "language": "python",
   "name": "python3"
  },
  "language_info": {
   "codemirror_mode": {
    "name": "ipython",
    "version": 3
   },
   "file_extension": ".py",
   "mimetype": "text/x-python",
   "name": "python",
   "nbconvert_exporter": "python",
   "pygments_lexer": "ipython3",
   "version": "3.6.1"
  }
 },
 "nbformat": 4,
 "nbformat_minor": 2
}
