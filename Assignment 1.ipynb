{
 "cells": [
  {
   "cell_type": "markdown",
   "metadata": {},
   "source": [
    "# Assignment 1 - Probability, Linear Algebra, Programming, and Git\n",
    "\n",
    "## *Jingwen Wang*\n",
    "Netid:  *jw609*"
   ]
  },
  {
   "cell_type": "markdown",
   "metadata": {},
   "source": [
    "# Probability and Statistics Theory"
   ]
  },
  {
   "cell_type": "markdown",
   "metadata": {},
   "source": [
    "## 1\n",
    "Let $f(x) = \\begin{cases}\n",
    "                0           & x < 0  \\\\\n",
    "                \\alpha x^2  & 0 \\leq x \\leq 2 \\\\\n",
    "                0           & 2 < x\n",
    "            \\end{cases}$\n",
    "            \n",
    "For what value of $\\alpha$ is $f(x)$ a valid probability density function?\n",
    "\n",
    "*Note: for all assignments, write out all equations and math for all assignments using markdown and [LaTeX](https://tobi.oetiker.ch/lshort/lshort.pdf) and show all work*"
   ]
  },
  {
   "cell_type": "markdown",
   "metadata": {},
   "source": [
    "**ANSWER**\n",
    "\n"
   ]
  },
  {
   "cell_type": "markdown",
   "metadata": {},
   "source": [
    "$\n",
    "\\int_{-\\infty}^{+\\infty}{f(x)x}dx = 1 =>\n",
    "\\int_{0}^{2}{f(x)x}dx = 1 =>\n",
    "\\frac{a}{3}x^3\\big|_0^1 = 1 => a = \\frac{3}{8}\n",
    "$\n"
   ]
  },
  {
   "cell_type": "markdown",
   "metadata": {},
   "source": [
    "## 2\n",
    "What is the cumulative distribution function (CDF) that corresponds to the following probability distribution function? Please state the value of the CDF for all possible values of $x$.\n",
    "\n",
    "$f(x) = \\begin{cases}\n",
    "    \\frac{1}{3} & 0 < x < 3 \\\\\n",
    "    0           & \\text{otherwise}\n",
    "    \\end{cases}$"
   ]
  },
  {
   "cell_type": "markdown",
   "metadata": {},
   "source": [
    "**ANSWER**\n",
    "\n"
   ]
  },
  {
   "cell_type": "markdown",
   "metadata": {},
   "source": [
    "$g(x) = \\begin{cases}\n",
    "    0           & x <=0 \\\\\n",
    "    \\frac{1}{3}x & 0 < x < 3 \\\\\n",
    "    1           & \\text{otherwise}\n",
    "    \\end{cases}$"
   ]
  },
  {
   "cell_type": "markdown",
   "metadata": {},
   "source": [
    "## 3\n",
    "For the probability distribution function for the random variable $X$,\n",
    "\n",
    "$f(x) = \\begin{cases}\n",
    "    \\frac{1}{3} & 0 < x < 3 \\\\\n",
    "    0           & \\text{otherwise}\n",
    "    \\end{cases}$\n",
    "    \n",
    "what is the (a) expected value and (b) variance of $X$. *Show all work*."
   ]
  },
  {
   "cell_type": "markdown",
   "metadata": {},
   "source": [
    "**ANSWER**\n",
    "\n",
    "(a) Expected value: $E(x) = \\int_{-\\infty}^{+\\infty}{f(x)x}dx = \\int_0^3{\\frac{1}{3}xdx} = \\frac{1}{6}x^2\\big|_0^3 = \\frac{3}{2} $\n",
    "\n",
    "\n",
    "\n",
    "(b) Variance: $V(x) = E((x - E(x))^2) = E(x^2) - E^2(x) = \\int_{-\\infty}^{+\\infty}{f(x)x^2}dx - (\\frac{3}{2})^2 = \\int_0^3{\\frac{1}{3}x^2dx - \\frac{9}{4}} = \\frac{1}{9}x^3\\big|_0^3 - \\frac{9}{4} = 3 - \\frac{9}{4} = \\frac{3}{4}$\n",
    "\n"
   ]
  },
  {
   "cell_type": "markdown",
   "metadata": {},
   "source": [
    "## 4\n",
    "Consider the following table of data that provides the values of a discrete data vector $\\mathbf{x}$ of samples from the random variable $X$, where each entry in $\\mathbf{x}$ is given as $x_i$.\n",
    "\n",
    "*Table 1. Dataset N=5 observations*\n",
    "\n",
    "\n",
    "|        -     | $x_0$ | $x_1$ | $x_2$ | $x_3$ | $x_4$ |\n",
    "| ----------- | ----------- | ---------- | ----------- | ---------- | ----------- |\n",
    "|x| 2     | 3     | 10    | -1    | -1    |\n",
    "\n",
    "What is the (a) mean, (b) variance, and the  of the data? \n",
    "\n",
    "*Show all work. Your answer should include the definition of mean, median, and variance in the context of discrete data.*"
   ]
  },
  {
   "cell_type": "markdown",
   "metadata": {},
   "source": [
    "**ANSWER**\n",
    "\n",
    "(a) Mean    $\\bar{x} =  \\frac{1}{n}\\sum_{i=0}^{n-1}{x_i} = \\frac{1}{5}\\sum_{i=0}^{4}{x_i} = \\frac{1}{5}(x_0 + x_1 + x_2 + x_3 + x_4) = \\frac{1}{5}(2+3+10-1-1) = \\frac{13}{5} = 2.6$\n",
    "\n",
    "\n",
    "\n",
    "(b) Variance $V(x) = \\frac{1}{n}\\sum_{i=0}^{n-1}{(x_i -\\bar{x})^2} = \\frac{1}{5}\\sum_{i=0}^{4}{(x_i -\\bar{x})^2} =\\frac{1}{5}[(2-\\frac{13}{5})^2 + (3-\\frac{13}{5})^2 + (10-\\frac{13}{5})^2 + (-1-\\frac{13}{5})^2 + (-1-\\frac{13}{5})^2] = 16.24$\n",
    "\n"
   ]
  },
  {
   "cell_type": "code",
   "execution_count": 1,
   "metadata": {},
   "outputs": [
    {
     "data": {
      "text/plain": [
       "(2.6, 16.240000000000002)"
      ]
     },
     "execution_count": 1,
     "metadata": {},
     "output_type": "execute_result"
    }
   ],
   "source": [
    "import numpy as np\n",
    "x = [2,3,10,-1,-1]\n",
    "np.mean(x), np.var(x)"
   ]
  },
  {
   "cell_type": "markdown",
   "metadata": {},
   "source": [
    "(c) median: median has the property that it divides a set of observed values in two equal halves, so that half of the values are below it, and half are above.\n",
    "The values need to be arranged in a list, lowest to highest. If there is an odd number of values, the median is the one at position $(n+1)/2$. With an even number of values, the median is defined as the mean of the two central elements. "
   ]
  },
  {
   "cell_type": "markdown",
   "metadata": {},
   "source": [
    "## 5\n",
    "Review of counting from probability theory. \n",
    "\n",
    "(a) How many different 7-place license plates are possible if the first 3 places only contain letters and the last 4 only contain numbers?\n",
    "\n",
    "(b) How many different batting orders are possible for a baseball team with 9 players?\n",
    "\n",
    "(c) How many batting orders of 5 players are possible for a team with 9 players total?\n",
    "\n",
    "(d) Let's assume this class has 26 students and we want to form project teams. How many unique teams of 3 are possible?\n",
    "\n",
    "*Hint: For each problem, determine if order matters, and if it should be calculated with or without replacement.*"
   ]
  },
  {
   "cell_type": "markdown",
   "metadata": {},
   "source": [
    "**ANSWER**\n",
    "\n",
    "(a) $26^3 * 10^4 = 175760000 $\n",
    "\n",
    "(b) $9! = 362880$\n",
    "\n",
    "(c) $\\tbinom{9}{5} * 5! = 15120$\n",
    "\n",
    "(d) $\\tbinom{26}{3} = 2600$\n",
    "\n"
   ]
  },
  {
   "cell_type": "code",
   "execution_count": 29,
   "metadata": {},
   "outputs": [],
   "source": [
    "from math import factorial\n",
    "\n",
    "def C(n,m):\n",
    "    return factorial(n)/(factorial(m)*factorial(n-m)) "
   ]
  },
  {
   "cell_type": "code",
   "execution_count": 30,
   "metadata": {},
   "outputs": [
    {
     "name": "stdout",
     "output_type": "stream",
     "text": [
      "(a) 175760000\n",
      "(b) 362880\n",
      "(c) 15120.0\n",
      "(d) 2600.0\n"
     ]
    }
   ],
   "source": [
    "print('(a)', 26**3 * 10**4)\n",
    "print('(b)', factorial(9))\n",
    "print('(c)', C(9,5)*factorial(5))\n",
    "print('(d)', C(26,3))"
   ]
  },
  {
   "cell_type": "markdown",
   "metadata": {},
   "source": [
    "# Linear Algebra"
   ]
  },
  {
   "cell_type": "markdown",
   "metadata": {},
   "source": [
    "## 6\n",
    "**Matrix manipulations and multiplication**. Machine learning involves working with many matrices, so this exercise will provide you with the opportunity to practice those skills.\n",
    "\n",
    "Let\n",
    "$\\mathbf{A} =  \\begin{bmatrix}\n",
    "1 & 2 & 3 \\\\\n",
    "2 & 4 & 5 \\\\\n",
    "3 & 5 & 6 \n",
    "\\end{bmatrix}$, $\\mathbf{b} =  \\begin{bmatrix}\n",
    "-1  \\\\\n",
    "3  \\\\\n",
    "8  \n",
    "\\end{bmatrix}$, $\\mathbf{c} =  \\begin{bmatrix}\n",
    "4  \\\\\n",
    "-3  \\\\\n",
    "6  \n",
    "\\end{bmatrix}$, and $\\mathbf{I} =  \\begin{bmatrix}\n",
    "1 & 0 & 0 \\\\\n",
    "0 & 1 & 0 \\\\\n",
    "0 & 0 & 1 \n",
    "\\end{bmatrix}$\n",
    "\n",
    "Compute the following or indicate that it cannot be computed:\n",
    "\n",
    "1. $\\mathbf{A}\\mathbf{A}$\n",
    "2. $\\mathbf{A}\\mathbf{A}^T$\n",
    "3. $\\mathbf{A}\\mathbf{b}$\n",
    "4. $\\mathbf{A}\\mathbf{b}^T$\n",
    "5. $\\mathbf{b}\\mathbf{A}$\n",
    "6. $\\mathbf{b}^T\\mathbf{A}$\n",
    "7. $\\mathbf{b}\\mathbf{b}$\n",
    "8. $\\mathbf{b}^T\\mathbf{b}$\n",
    "9. $\\mathbf{b}\\mathbf{b}^T$\n",
    "10. $\\mathbf{b} + \\mathbf{c}^T$\n",
    "11. $\\mathbf{b}^T\\mathbf{b}^T$\n",
    "12. $\\mathbf{A}^{-1}\\mathbf{b}$\n",
    "13. $\\mathbf{A}\\circ\\mathbf{A}$\n",
    "14. $\\mathbf{b}\\circ\\mathbf{c}$\n",
    "\n",
    "*Note: The element-wise (or Hadamard) product is the product of each element in one matrix with the corresponding element in another matrix, and is represented by the symbol \"$\\circ$\".*"
   ]
  },
  {
   "cell_type": "markdown",
   "metadata": {},
   "source": [
    "**ANSWER**\n",
    "\n"
   ]
  },
  {
   "cell_type": "code",
   "execution_count": 31,
   "metadata": {},
   "outputs": [],
   "source": [
    "A = np.array([[1,2,3],[2,4,5],[3,5,6]])\n",
    "b = np.array([-1,3,8]).reshape(-1,1)\n",
    "c = np.array([4,-3,6]).reshape(-1,1)"
   ]
  },
  {
   "cell_type": "code",
   "execution_count": 32,
   "metadata": {},
   "outputs": [
    {
     "data": {
      "text/plain": [
       "array([[14, 25, 31],\n",
       "       [25, 45, 56],\n",
       "       [31, 56, 70]])"
      ]
     },
     "execution_count": 32,
     "metadata": {},
     "output_type": "execute_result"
    }
   ],
   "source": [
    "# 1.AA\n",
    "A.dot(A)"
   ]
  },
  {
   "cell_type": "code",
   "execution_count": 33,
   "metadata": {},
   "outputs": [
    {
     "data": {
      "text/plain": [
       "array([[14, 25, 31],\n",
       "       [25, 45, 56],\n",
       "       [31, 56, 70]])"
      ]
     },
     "execution_count": 33,
     "metadata": {},
     "output_type": "execute_result"
    }
   ],
   "source": [
    "# 2.AAT\n",
    "A.dot(A.T)"
   ]
  },
  {
   "cell_type": "code",
   "execution_count": 34,
   "metadata": {},
   "outputs": [
    {
     "data": {
      "text/plain": [
       "array([[29],\n",
       "       [50],\n",
       "       [60]])"
      ]
     },
     "execution_count": 34,
     "metadata": {},
     "output_type": "execute_result"
    }
   ],
   "source": [
    "# 3.Ab\n",
    "A.dot(b)"
   ]
  },
  {
   "cell_type": "markdown",
   "metadata": {},
   "source": [
    "4. $\\mathbf{A}\\mathbf{b}^T$: cannot be computed\n",
    "5. $\\mathbf{b}\\mathbf{A}$: cannot be computed"
   ]
  },
  {
   "cell_type": "code",
   "execution_count": 35,
   "metadata": {},
   "outputs": [
    {
     "data": {
      "text/plain": [
       "array([[29, 50, 60]])"
      ]
     },
     "execution_count": 35,
     "metadata": {},
     "output_type": "execute_result"
    }
   ],
   "source": [
    "# 6.bTA\n",
    "b.T.dot(A)"
   ]
  },
  {
   "cell_type": "markdown",
   "metadata": {},
   "source": [
    "7. $\\mathbf{b}\\mathbf{b}$: cannot be computed"
   ]
  },
  {
   "cell_type": "code",
   "execution_count": 36,
   "metadata": {},
   "outputs": [
    {
     "data": {
      "text/plain": [
       "array([[74]])"
      ]
     },
     "execution_count": 36,
     "metadata": {},
     "output_type": "execute_result"
    }
   ],
   "source": [
    "# 8. bTb\n",
    "b.T.dot(b)"
   ]
  },
  {
   "cell_type": "code",
   "execution_count": 37,
   "metadata": {},
   "outputs": [
    {
     "data": {
      "text/plain": [
       "array([[ 1, -3, -8],\n",
       "       [-3,  9, 24],\n",
       "       [-8, 24, 64]])"
      ]
     },
     "execution_count": 37,
     "metadata": {},
     "output_type": "execute_result"
    }
   ],
   "source": [
    "# 9. bbT\n",
    "b.dot(b.T)"
   ]
  },
  {
   "cell_type": "markdown",
   "metadata": {},
   "source": [
    "10. $\\mathbf{b} + \\mathbf{c}^T$: cannot be computed\n",
    "11. $\\mathbf{b}^T\\mathbf{b}^T$: cannot be computed\n"
   ]
  },
  {
   "cell_type": "code",
   "execution_count": 38,
   "metadata": {},
   "outputs": [
    {
     "data": {
      "text/plain": [
       "array([[ 6.],\n",
       "       [ 4.],\n",
       "       [-5.]])"
      ]
     },
     "execution_count": 38,
     "metadata": {},
     "output_type": "execute_result"
    }
   ],
   "source": [
    "# 12 A-1b\n",
    "np.linalg.inv(A).dot(b)"
   ]
  },
  {
   "cell_type": "code",
   "execution_count": 39,
   "metadata": {},
   "outputs": [
    {
     "data": {
      "text/plain": [
       "array([[ 1,  4,  9],\n",
       "       [ 4, 16, 25],\n",
       "       [ 9, 25, 36]])"
      ]
     },
     "execution_count": 39,
     "metadata": {},
     "output_type": "execute_result"
    }
   ],
   "source": [
    "# 13 AoA\n",
    "A*A"
   ]
  },
  {
   "cell_type": "code",
   "execution_count": 40,
   "metadata": {},
   "outputs": [
    {
     "data": {
      "text/plain": [
       "array([[-4],\n",
       "       [-9],\n",
       "       [48]])"
      ]
     },
     "execution_count": 40,
     "metadata": {},
     "output_type": "execute_result"
    }
   ],
   "source": [
    "# 14 boc\n",
    "b*c"
   ]
  },
  {
   "cell_type": "markdown",
   "metadata": {},
   "source": [
    "## 6\n",
    "**Eigenvectors and eigenvalues**. Eigenvectors and eigenvalues are useful for some machine learning algorithms, but the concepts take time to solidly grasp. For an intuitive review of these concepts, explore this [interactive website at Setosa.io](http://setosa.io/ev/eigenvectors-and-eigenvalues/). Also, the series of linear algebra videos by Grant Sanderson of 3Brown1Blue are excellent and can be viewed on youtube [here](https://www.youtube.com/playlist?list=PLZHQObOWTQDPD3MizzM2xVFitgF8hE_ab).\n",
    "\n",
    "1. Calculate the eigenvalues and corresponding eigenvectors of matrix $\\mathbf{A}$ above, from the last question.\n",
    "2. Choose one of the eigenvector/eigenvalue pairs, $\\mathbf{v}$ and $\\lambda$, and show that $\\mathbf{A} \\mathbf{v} = \\lambda \\mathbf{v}$. Also show that this relationship extends to higher orders: $\\mathbf{A} \\mathbf{A} \\mathbf{v} = \\lambda^2 \\mathbf{v}$\n",
    "3. Show that the eigenvectors are orthogonal to one another (e.g. their inner product is zero). This is true for real, symmetric matrices."
   ]
  },
  {
   "cell_type": "markdown",
   "metadata": {},
   "source": [
    "**ANSWER**\n",
    "\n"
   ]
  },
  {
   "cell_type": "code",
   "execution_count": 41,
   "metadata": {},
   "outputs": [
    {
     "name": "stdout",
     "output_type": "stream",
     "text": [
      "eigenvalue        eigenvector\n",
      "11.34481428276208 [-0.32798528 -0.59100905 -0.73697623]\n",
      "-0.5157294715892577 [-0.73697623 -0.32798528  0.59100905]\n",
      "0.17091518882717868 [ 0.59100905 -0.73697623  0.32798528]\n"
     ]
    }
   ],
   "source": [
    "# 1 eigenvalues and eigenvectors\n",
    "import numpy.linalg as la\n",
    "\n",
    "w, v = la.eig(A)\n",
    "print('eigenvalue        eigenvector')\n",
    "for i in range(len(w)):\n",
    "    print(w[i], v[:, i])"
   ]
  },
  {
   "cell_type": "code",
   "execution_count": 42,
   "metadata": {},
   "outputs": [
    {
     "name": "stdout",
     "output_type": "stream",
     "text": [
      "Av: [-3.72093206 -6.70488789 -8.36085845]\n",
      "wv: [-3.72093206 -6.70488789 -8.36085845]\n",
      "AAv: [-42.2132832  -76.06570795 -94.85238636]\n",
      "w^2v: [-42.2132832  -76.06570795 -94.85238636]\n"
     ]
    }
   ],
   "source": [
    "# 2 Av = wv\n",
    "print('Av:', A.dot(v[:,0].T))\n",
    "print('wv:', w[0]*v[:, 0].T)\n",
    "\n",
    "print('AAv:', A @ A.T @ v[:,0].T)\n",
    "print('w^2v:', w[0]**2*v[:, 0].T)"
   ]
  },
  {
   "cell_type": "code",
   "execution_count": 43,
   "metadata": {},
   "outputs": [
    {
     "name": "stdout",
     "output_type": "stream",
     "text": [
      "v0 v1: -1.6653345369377348e-16\n",
      "v0 v2: -4.163336342344337e-16\n",
      "v1 v2: -2.0816681711721685e-15\n",
      "Note: due to accuracy issue the results are not equal to 0, but they are small enough to be seen as 0.\n"
     ]
    }
   ],
   "source": [
    "# 3 eigenvectors are orthogonal\n",
    "v0 = v[:, 0]\n",
    "v1 = v[:, 1]\n",
    "v2 = v[:, 2]\n",
    "\n",
    "print('v0 v1:', v0 @ v1.T)\n",
    "print('v0 v2:', v0 @ v2.T)\n",
    "print('v1 v2:', v1 @ v2.T)\n",
    "\n",
    "print('Note: due to accuracy issue the results are not equal to 0, but they are small enough to be seen as 0.')"
   ]
  },
  {
   "cell_type": "markdown",
   "metadata": {},
   "source": [
    "# Numerical Programming"
   ]
  },
  {
   "cell_type": "markdown",
   "metadata": {},
   "source": [
    "## 7\n",
    "Speed comparison between vectorized and non-vectorized code. Begin by creating an array of 10 million random numbers using the numpy random.randn module. Compute the sum of the squares first in a for loop, then using Numpy's `dot` module. Time how long it takes to compute each and report the results and report the output. How many times faster is the vectorized code than the for loop approach?\n",
    "\n",
    "*Note: all code should be well commented, properly formatted, and your answers should be output using the `print()` function as follows (where the # represents your answers, to a reasonable precision):\n",
    "\n",
    "`Time [sec] (non-vectorized): ######`\n",
    "\n",
    "`Time [sec] (vectorized):     ######`\n",
    "\n",
    "`The vectorized code is ##### times faster than the vectorized code`"
   ]
  },
  {
   "cell_type": "markdown",
   "metadata": {},
   "source": [
    "**ANSWER**"
   ]
  },
  {
   "cell_type": "code",
   "execution_count": 44,
   "metadata": {
    "collapsed": true
   },
   "outputs": [
    {
     "name": "stdout",
     "output_type": "stream",
     "text": [
      "Time (ns) (non-vectorized): 4.621987819671631\n",
      "Time (ns) (vectorized): 0.005362749099731445\n",
      "The vectorized code is 861.8691148357267 times faster than the non-vectorized code\n"
     ]
    }
   ],
   "source": [
    "import numpy as np\n",
    "import time\n",
    "\n",
    "\n",
    "# Generate the random samples\n",
    "numbers = np.random.randn(10000000)\n",
    "\n",
    "# Compute the sum of squares the non-vectorized way (using a for loop)\n",
    "start1 = time.time()\n",
    "ans1 = 0\n",
    "for i in numbers:\n",
    "    ans1 += i**2\n",
    "end1 = time.time()\n",
    "\n",
    "\n",
    "# Compute the sum of squares the vectorized way (using numpy)\n",
    "start2 = time.time()\n",
    "ans2 = np.dot(numbers, numbers.T)\n",
    "end2 = time.time()\n",
    "\n",
    "\n",
    "# Print the results\n",
    "print('Time (ns) (non-vectorized): {}'.format(end1 - start1))\n",
    "print('Time (ns) (vectorized): {}'.format(end2 - start2))\n",
    "print('The vectorized code is {} times faster than the non-vectorized code'.format((end1 - start1) / (end2 - start2)))\n"
   ]
  },
  {
   "cell_type": "markdown",
   "metadata": {},
   "source": [
    "## 8\n",
    "One popular Agile development framework is Scrum (a paradigm recommended for data science projects). It emphasizes the continual evolution of code for projects, becoming progressively better, but starting with a quickly developed minimum viable product. This often means that code written early on is not optimized, and that's a good thing - it's best to get it to work first before optimizing. Imagine that you wrote the following code during a sprint towards getting an end-to-end system working. Vectorize the following code and show the difference in speed between the current implementation and a vectorized version.\n",
    "\n",
    "The function below computes the function $f(x,y) = x^2 - 2 y^2$ and determines whether this quantity is above or below a given threshold, `thresh=0`. This is done for $x,y \\in \\{-4,4\\}$, over a 2,000-by-2,000 grid covering that domain.\n",
    "\n",
    "(a) Vectorize this code and demonstrate (as in the last exercise) the speed increase through vectorization and \n",
    "\n",
    "(b) plot the resulting data - both the function $f(x,y)$ and the thresholded output - using [`imshow`](https://matplotlib.org/api/_as_gen/matplotlib.pyplot.imshow.html?highlight=matplotlib%20pyplot%20imshow#matplotlib.pyplot.imshow) from `matplotlib`.\n",
    "\n",
    "*Hint: look at the `numpy` [`meshgrid`](https://docs.scipy.org/doc/numpy-1.13.0/reference/generated/numpy.meshgrid.html) documentation*"
   ]
  },
  {
   "cell_type": "code",
   "execution_count": 45,
   "metadata": {
    "collapsed": true
   },
   "outputs": [
    {
     "name": "stdout",
     "output_type": "stream",
     "text": [
      "Time for (non-vectorized): 10.6613450050354\n",
      "Time for (vectorized): 0.033917903900146484\n",
      "The vectorized code is 314.3279442156022 times faster than the npn-vectorized code\n"
     ]
    }
   ],
   "source": [
    "import numpy as np\n",
    "import time\n",
    "\n",
    "import matplotlib.pyplot as plt\n",
    "\n",
    "\n",
    "# Initialize variables for this exerise\n",
    "nx, ny = (2000, 2000)\n",
    "x = np.linspace(-4, 4, nx)\n",
    "y = np.linspace(-4, 4, ny)\n",
    "xv, yv = np.meshgrid(x, y)\n",
    "\n",
    "# Nonvectorized implementation\n",
    "f1 = np.zeros(xv.shape)\n",
    "f1_th = np.zeros(xv.shape)\n",
    "\n",
    "start1 = time.time()\n",
    "for i in range(xv.shape[0]):\n",
    "    for j in range(xv.shape[1]):\n",
    "        f1[i][j] = xv[i][j]**2 - 2*yv[i][j]**2\n",
    "        if f1[i][j] >0:\n",
    "            f1_th[i][j] = 1\n",
    "        else:\n",
    "            f1_th[i][j] = -1\n",
    "end1 = time.time()\n",
    "interval1 = end1 - start1 \n",
    "#print(f1)\n",
    "\n",
    "# Vectorized implementation\n",
    "f2 = np.zeros(xv.shape)\n",
    "start2 = time.time()\n",
    "f2 = xv*xv - 2*yv*yv\n",
    "f2_th = np.where(f2>0, 1, -1)\n",
    "end2 = time.time()\n",
    "interval2 = end2 - start2\n",
    "#print(f2)\n",
    "\n",
    "# Print the time for each and the speed increase\n",
    "print('Time for (non-vectorized): {}'.format(interval1))\n",
    "print('Time for (vectorized): {}'.format(interval2))\n",
    "print('The vectorized code is {} times faster than the npn-vectorized code'.format(interval1 / interval2))"
   ]
  },
  {
   "cell_type": "code",
   "execution_count": 46,
   "metadata": {},
   "outputs": [
    {
     "data": {
      "image/png": "[encoded data removed]",
      "text/plain": [
       "<matplotlib.figure.Figure at 0x125effbe0>"
      ]
     },
     "metadata": {},
     "output_type": "display_data"
    }
   ],
   "source": [
    "# Plot the result\n",
    "fig, ax = plt.subplots(1, 2)\n",
    "\n",
    "\n",
    "# before threshold\n",
    "ax[0].set_title('f before threshold')\n",
    "ax[0].set_xlabel('x')\n",
    "ax[0].set_ylabel('y')\n",
    "ax[0].imshow(f2)\n",
    "\n",
    "ax[1].set_title('f after threshold')\n",
    "ax[1].set_xlabel('x')\n",
    "ax[1].set_ylabel('y')\n",
    "ax[1].imshow(f2_th)\n",
    "\n",
    "plt.show()"
   ]
  },
  {
   "cell_type": "markdown",
   "metadata": {},
   "source": [
    "## 9\n",
    "This exercise will walk through some basic numerical programming exercises.\n",
    "1. Synthesize $n=10^4$ normally distributed data points with mean $\\mu=2$ and a standard deviation of $\\sigma=1$. Call these observations from a random variable $X$, and call the vector of observations that you generate, $\\textbf{x}$.\n",
    "2. Calculate the mean and standard deviation of $\\textbf{x}$ to validate (1) and provide the result to a precision of four significant figures.\n",
    "3. Plot a histogram of the data in $\\textbf{x}$ with 30 bins\n",
    "4. What is the 90th percentile of $\\textbf{x}$? The 90th percentile is the value below which 90% of observations can be found.\n",
    "5. What is the 99th percentile of $\\textbf{x}$?\n",
    "6. Now synthesize $n=10^4$ normally distributed data points with mean $\\mu=0$ and a standard deviation of $\\sigma=3$. Call these observations from a random variable $Y$, and call the vector of observations that you generate, $\\textbf{y}$.\n",
    "7. Plot the histogram of the data in $\\textbf{y}$ on a (new) plot with the histogram of $\\textbf{x}$, so that both histograms can be seen and compared.\n",
    "8. Using the observations from $\\textbf{x}$ and $\\textbf{y}$, estimate $E[XY]$"
   ]
  },
  {
   "cell_type": "markdown",
   "metadata": {},
   "source": [
    "**ANSWER**"
   ]
  },
  {
   "cell_type": "code",
   "execution_count": 47,
   "metadata": {
    "collapsed": true
   },
   "outputs": [
    {
     "name": "stdout",
     "output_type": "stream",
     "text": [
      "(2) Mean:2.023, Standard Deviation:1.002\n",
      "(3)\n"
     ]
    },
    {
     "data": {
      "image/png": "[encoded data removed]",
      "text/plain": [
       "<matplotlib.figure.Figure at 0x123b997b8>"
      ]
     },
     "metadata": {},
     "output_type": "display_data"
    },
    {
     "name": "stdout",
     "output_type": "stream",
     "text": [
      "(4) 90th percentile: 3.2968410852717667\n",
      "(5) 99th percentile: 4.361913061796267\n"
     ]
    }
   ],
   "source": [
    "# 1\n",
    "n = 10000\n",
    "x = np.random.normal(2, 1, n)\n",
    "\n",
    "# 2\n",
    "print('(2) Mean:{:.4}, Standard Deviation:{:.4}'.format(np.mean(x), np.std(x)))\n",
    "\n",
    "# 3\n",
    "print('(3)')\n",
    "num_bins = 30\n",
    "plt.hist(x, num_bins)\n",
    "plt.title('Histogram of x')\n",
    "plt.xlabel('x')\n",
    "plt.ylabel('count')\n",
    "plt.show()\n",
    "\n",
    "# 4\n",
    "print('(4) 90th percentile:', np.percentile(x, 90))\n",
    "\n",
    "# 5\n",
    "print('(5) 99th percentile:', np.percentile(x, 99))\n"
   ]
  },
  {
   "cell_type": "code",
   "execution_count": 48,
   "metadata": {},
   "outputs": [
    {
     "name": "stdout",
     "output_type": "stream",
     "text": [
      "(7)\n"
     ]
    },
    {
     "data": {
      "image/png": "[encoded data removed]",
      "text/plain": [
       "<matplotlib.figure.Figure at 0x12bd3f470>"
      ]
     },
     "metadata": {},
     "output_type": "display_data"
    },
    {
     "name": "stdout",
     "output_type": "stream",
     "text": [
      "(8) E(XY) =  -0.024704231335325195 (result from 100000 simulations)\n"
     ]
    }
   ],
   "source": [
    "# 6\n",
    "y = np.random.normal(0, 3, n)\n",
    "#print('Mean:{:.4}, Standard Deviation:{:.4}'.format(np.mean(y), np.std(y)))\n",
    "\n",
    "# 7\n",
    "# Two subplots, the axes array is 1-d\n",
    "print('(7)')\n",
    "num_bins = 30\n",
    "plt.hist(x, num_bins, color='g', alpha=0.5, label='x')\n",
    "plt.hist(y, num_bins, color = 'b', alpha=0.5, label= 'y')\n",
    "plt.legend()\n",
    "plt.title('Histogram of x and y')\n",
    "plt.xlabel('x (y)')\n",
    "plt.ylabel('count')\n",
    "plt.show()\n",
    "\n",
    "# 8 simulations to calculate EXYs\n",
    "xy = 0\n",
    "n_sim = 1000000\n",
    "for k in range(n_sim):\n",
    "    i, j = np.random.randint(0, n, 2)\n",
    "    xy += x[i]*y[j]\n",
    "print('(8) E(XY) = ', xy/n_sim, '(result from 100000 simulations)')"
   ]
  },
  {
   "cell_type": "markdown",
   "metadata": {},
   "source": [
    "## 10\n",
    "Estimate the integral of the function $f(x)$ on the interval $0\\leq x < 2.5$ assuming we only know the following points from $f$:\n",
    "\n",
    "*Table 1. Dataset containing n=5 observations*\n",
    "\n",
    "| $x_i$ | 0.0 | 0.5 | 1.0 | 1.5 | 2.0 |\n",
    "|-|-|-|-|-|-|\n",
    "| $y_i$ | 6 | 7 | 8 | 4 | 1 |\n"
   ]
  },
  {
   "cell_type": "markdown",
   "metadata": {},
   "source": [
    "**ANSWER**\n",
    "\n"
   ]
  },
  {
   "cell_type": "code",
   "execution_count": 49,
   "metadata": {},
   "outputs": [
    {
     "name": "stdout",
     "output_type": "stream",
     "text": [
      "13.0\n"
     ]
    }
   ],
   "source": [
    "x = np.array([0,.5,1,1.5,2])\n",
    "y = np.array([6,7,8,4,1])\n",
    "\n",
    "step = 0.5\n",
    "\n",
    "print(sum(y*step))"
   ]
  },
  {
   "cell_type": "markdown",
   "metadata": {},
   "source": [
    "# Version Control via Git"
   ]
  },
  {
   "cell_type": "markdown",
   "metadata": {},
   "source": [
    "## 11\n",
    "Complete the [Atlassian Git tutorial](https://www.atlassian.com/git/tutorials/what-is-version-control), specifically the following sections. Try each concept that's presented. For this tutorial, instead of using BitBucket, use Github. Create a github account here if you don't already have one: https://github.com/\n",
    "1. [What is version control](https://www.atlassian.com/git/tutorials/what-is-version-control)\n",
    "2. [What is Git](https://www.atlassian.com/git/tutorials/what-is-git)\n",
    "3. [Install Git](https://www.atlassian.com/git/tutorials/install-git)\n",
    "4. [Setting up a repository](https://www.atlassian.com/git/tutorials/install-git)\n",
    "5. [Saving changes](https://www.atlassian.com/git/tutorials/saving-changes)\n",
    "6. [Inspecting a repository](https://www.atlassian.com/git/tutorials/inspecting-a-repository)\n",
    "7. [Undoing changes](https://www.atlassian.com/git/tutorials/undoing-changes)\n",
    "8. [Rewriting history](https://www.atlassian.com/git/tutorials/rewriting-history)\n",
    "9. [Syncing](https://www.atlassian.com/git/tutorials/syncing)\n",
    "10. [Making a pull request](https://www.atlassian.com/git/tutorials/making-a-pull-request)\n",
    "11. [Using branches](https://www.atlassian.com/git/tutorials/using-branches)\n",
    "12. [Comparing workflows](https://www.atlassian.com/git/tutorials/comparing-workflows)\n",
    "\n",
    "For your answer, affirm that you either completed the tutorial or have previous experience with all of the concepts above. Do this by typing your name below and selecting the situation that applies from the two options in brackets."
   ]
  },
  {
   "cell_type": "markdown",
   "metadata": {},
   "source": [
    "**ANSWER**\n",
    "\n",
    "I, **Jingwen Wang**, affirm that **I have previous experience that covers all the content in this tutorial.**"
   ]
  },
  {
   "cell_type": "markdown",
   "metadata": {},
   "source": [
    "## 12\n",
    "Using Github to create a static HTML website:\n",
    "1. Create a branch in your `machine-learning-course` repo called \"gh-pages\" and checkout that branch (this will provide an example of how to create a simple static website using [Github Pages](https://pages.github.com/))\n",
    "2. Create a file called \"index.html\" with the contents \"Hello World\" and add, commit, and push it to that branch.\n",
    "3. Submit the following: (a) a link to your github repository and (b) a link to your new \"Hello World\" website. The latter should be at the address https://[USERNAME].github.io/ECE590-assignment0 (where [USERNAME] is your github username)."
   ]
  },
  {
   "cell_type": "markdown",
   "metadata": {},
   "source": [
    "**ANSWER**\n",
    "\n",
    "https://jacquelinewang.github.io/machine-learning-course/"
   ]
  },
  {
   "cell_type": "markdown",
   "metadata": {},
   "source": [
    "# Exploratory Data Analysis\n",
    "## 13\n",
    "Here you'll bring together some of the individual skills that you demonstrated above and create a Jupyter notebook based blog post on data analysis.\n",
    "\n",
    "1. Find a dataset that interests you and relates to a question or problem that you find intriguing\n",
    "2. Using a Jupyter notebook, describe the dataset, the source of the data, and the reason the dataset was of interest.\n",
    "3. Check the data and see if they need to be cleaned: are there missing values? Are there clearly erroneous values? Do two tables need to be merged together? Clean the data so it can be visualized.\n",
    "3. Plot the data, demonstrating interesting features that you discover. Are there any relationships between variables that were surprising or patterns that emerged? Please exercise creativity and curiosity in your plots.\n",
    "4. What insights are you able to take away from exploring the data? Is there a reason why analyzing the dataset you chose is particularly interesting or important? Summarize this as if your target audience was the readership of a major news organization - boil down your findings in a way that is accessible, but still accurate.\n",
    "5. Create a public repository on your github account titled \"machine-learning-course\". In it, create a readme file that contains the heading \"ECE590: Introductory Machine Learning for Data Science\". Add, commit, and push that Jupyter notebook to the master branch. Provide the link to the that post here."
   ]
  },
  {
   "cell_type": "markdown",
   "metadata": {},
   "source": [
    "**ANSWER**\n",
    "\n"
   ]
  },
  {
   "cell_type": "markdown",
   "metadata": {},
   "source": [
    "https://github.com/jacquelinewang/machine-learning-course/blob/master/blog_post.ipynb"
   ]
  }
 ],
 "metadata": {
  "kernelspec": {
   "display_name": "Python 3",
   "language": "python",
   "name": "python3"
  },
  "language_info": {
   "codemirror_mode": {
    "name": "ipython",
    "version": 3
   },
   "file_extension": ".py",
   "mimetype": "text/x-python",
   "name": "python",
   "nbconvert_exporter": "python",
   "pygments_lexer": "ipython3",
   "version": "3.6.1"
  }
 },
 "nbformat": 4,
 "nbformat_minor": 2
}
